{
  "cells": [
    {
      "cell_type": "markdown",
      "metadata": {},
      "source": [
        "# 1. Presentación de la empresa, organización o problema específico\n",
        "#### De acuerdo a la Organización Mundial de la Salud (OMS), ACV es la segunda causa de muerte a nivel global, responsable de aproximadamente 11% de las muertes totales.\n",
        "#### Este set de datos es utilizado para predecir si un paciente es propenso a tener un ACV basado en los parametros como género, edad, enfermedades varias, y estado de fumador. Cada fila en los datos provee información relevante sobre el paciente.\n"
      ]
    },
    {
      "cell_type": "markdown",
      "metadata": {
        "id": "8--juv6d-8yL"
      },
      "source": [
        "#### 2. Preguntas y objetivos de la investigación.\n",
        "\n",
        "El objetivo de la investigación es ver cuales son las mas importantes a la hora de provocar un acv en un paciente. Utilizando un modelo de predicción vamos a poder determinar si una persona es mas propensa a tener un acv"
      ]
    },
    {
      "cell_type": "markdown",
      "metadata": {
        "id": "FlJG0RbG_mW3"
      },
      "source": [
        "#### 3. Conformación del equipo de trabajo. \n",
        "Martin Marino\n",
        "Leandro Bruzzo\n",
        "Luis "
      ]
    },
    {
      "cell_type": "markdown",
      "metadata": {
        "id": "v0Or7A6f_GjS"
      },
      "source": [
        "# 4. Indicación de la fuente del dataset y los criterios de selección (Data Acquisition)\n",
        "#### El dataset fue obtenido de la plataforma Kaggle desde el siguiente link : https://www.kaggle.com/datasets/fedesoriano/stroke-prediction-dataset\n",
        "\n",
        "#### Información sobre el data set:\n",
        "- Creador: fedesoriano - https://www.kaggle.com/fedesoriano\n",
        "\n",
        "- Información de los atributos: \n",
        "1) id: identificador único\n",
        "2) gender: \"Male\", \"Female\" o \"Other\" (Masculino, Femenino u Otro)\n",
        "3) age: Edad del paciente\n",
        "4) hypertension: 0 si el paciente no tiene hipertensión , 1 si el paciente tiene hipertensión\n",
        "5) heart_disease: 0 si el paciente no tiene enfermedades del corazón, 1 si el paciente tiene enfermedades del corazón\n",
        "6) ever_married: \"No\" o \"Yes\" (No o Sí)\n",
        "7) work_type: \"children\", \"Govt_jov\", \"Never_worked\", \"Private\" or \"Self-employed\" (Niño, trabajo en el sector público, nunca trabajó, privado o monotributista)\n",
        "8) Residence_type: \"Rural\" or \"Urban\" \n",
        "9) avg_glucose_level: nivel promedio de glucosa en la sangre\n",
        "10) bmi: Índice de masa corporal\n",
        "11) smoking_status: \"formerly smoked\", \"never smoked\", \"smokes\" or \"Unknown\"* (Fumador frecuente, nunca fumó, fuma, desconocido)\n",
        "12) stroke: 1 si el paciente tuvo un ACV 0 si no lo tuvo (Variable Target)\n",
        "*Nota: 'Uknown' en smoking_status indica que no se registró un estado del paciente.\n",
        "\n",
        "Información sobre Kaggle:\n",
        "Kaggle, una subsidiaria de Google LLC, es una comunidad en línea de científicos de datos y profesionales del aprendizaje automático."
      ]
    }
  ],
  "metadata": {
    "colab": {
      "collapsed_sections": [],
      "name": "Untitled0.ipynb",
      "provenance": []
    },
    "kernelspec": {
      "display_name": "Python 3.10.6 64-bit",
      "language": "python",
      "name": "python3"
    },
    "language_info": {
      "name": "python",
      "version": "3.10.6"
    },
    "vscode": {
      "interpreter": {
        "hash": "a1b97a539eae796d3176276b7dc693fb6adbbbe67de8072ee0badf377b70dd3a"
      }
    }
  },
  "nbformat": 4,
  "nbformat_minor": 0
}
